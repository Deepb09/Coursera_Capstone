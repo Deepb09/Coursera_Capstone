{
    "cells": [
        {
            "cell_type": "markdown",
            "metadata": {
                "collapsed": true
            },
            "source": "# Coursera Capstone \n# Week 4 Assignment - The Battle of neighborhoods(Week 1)\n## Introduction"
        },
        {
            "cell_type": "markdown",
            "metadata": {},
            "source": "### Question 1 :- \nClearly define a problem or an idea of your choice, where you would need to leverage the Foursquare location data to solve or execute. Remember that data science problems always target an audience and are meant to help a group of stakeholders solve a problem, so make sure that you explicitly describe your audience and why they would care about your problem."
        },
        {
            "cell_type": "markdown",
            "metadata": {},
            "source": "## Intro :-\nI am a Software developer working in Maryland. I have to move to Miami,Florida. I used to live in Owings Mills, Maryland with walking distance to the Grand Junction Metro Station with great connectivity to Baltimore Downtown as well as Washington, D.C., all shopping stores, groceries and pharmacy was nearby to my apartment. But since I am moving to Florida I want to use the skills learned during IBM Data Science Specialization course to help me find a suitable apartment that meets the price range along with good locality which should be connected easily to public transport such as metros and buses and have groceries stores and good restaurants nearby. I can use apartment and renting websites to help me with my situation but I want to apply my learning and utilize the tools I used to help solve the problem. To help solve the problem, I will evaluate and compare the apartments available for renting in Miami, Florida and they should meet the following measures:"
        },
        {
            "cell_type": "markdown",
            "metadata": {},
            "source": "- Apartment must be 2 bedrooms.\n- Desired location is near a metro station in the Manhattan area and within (1.5 km) radius or less than 30 minutes walking distance.\n- Price of rent not exceed $2,000 per month.\n- Amenities in the selected neighborhood shall be similar to my current residence.\n- Desirable to have venues such as coffee shops,good Restaurants,Gym and Grocery stores nearby.\n- As a reference, I have included a map of venues near current residence in Maryland."
        },
        {
            "cell_type": "markdown",
            "metadata": {},
            "source": "### Business Problem"
        },
        {
            "cell_type": "markdown",
            "metadata": {},
            "source": "The challenge is to find a suitable apartment for rent in Miami, Florida that meets with the demands of appropriate location, price and venues. The data required to resolve this challenge is described in section 2."
        },
        {
            "cell_type": "markdown",
            "metadata": {},
            "source": "### Project Purpose :-"
        },
        {
            "cell_type": "markdown",
            "metadata": {},
            "source": "This information will be helpful for someone moving to a new city and will help them to find a good apartment, as the basic questions for renting a reasonable apartment in a city are being answered. It will also help individuals interested in exploring coffee shops and restaurants in any city. Lastly, it is serving the purpose of helping me improve my Data Science skills as I can apply in this project."
        },
        {
            "cell_type": "markdown",
            "metadata": {},
            "source": "## Question 2 :-"
        },
        {
            "cell_type": "markdown",
            "metadata": {},
            "source": "Describe the data that you will be using to solve the problem or execute your idea. Remember that you will need to use the Foursquare location data to solve the problem or execute your idea. You can absolutely use other datasets in combination with the Foursquare location data. So make sure that you provide adequate explanation and discussion, with examples, of the data that you will be using, even if it is only Foursquare location data."
        },
        {
            "cell_type": "markdown",
            "metadata": {},
            "source": "### About Data Requirements"
        },
        {
            "cell_type": "markdown",
            "metadata": {},
            "source": "- List of neighborhoods of Miami, Florida with their geodata (latitude and longitude).\n- List of apartments for rent in Miami area with their addresses and price.\n- List of Subway metro stations in Miami with their relative location.\n- Preferably, a list of apartments for rent with additional information, such as price, address, area, # of beds\n- Venues for each Miami neighborhoods ( that can be clustered).\n- Venues for subway metro stations."
        },
        {
            "cell_type": "markdown",
            "metadata": {},
            "source": "### Use of data"
        },
        {
            "cell_type": "markdown",
            "metadata": {},
            "source": "- Use Foursquare and geopy data to map top 10 venues for all Miami neighborhoods and clustered in groups ( as per Course LAB).\n- Use foursquare and geopy data to map the location of metro stations , separately and on top of the above clustered map in order to be able to identify the venues and amenities near each metro station, or explore each public transport location separately\n- Use Foursquare and geopy data to map the location of rental places, in some form, linked to the public transport locations.\n- Create a map that depicts, for instance, the average rental price per square ft, around a radious of (1.5 km) around each subway station - or a similar metric. I will be able to quickly point to the popups to know the relative price per subway area.\n- Addresses from rental locations will be converted to geodata( lat, long) using Geopy-distance and Nominatim.\n- Data will be searched in open data sources if available, from real estate sites if open to reading, libraries or other government agencies such as Metrorail, etc."
        },
        {
            "cell_type": "markdown",
            "metadata": {},
            "source": "### Decision of renting and answer the below questions :-"
        },
        {
            "cell_type": "markdown",
            "metadata": {},
            "source": "- what is the cost of rent (per square ft) around a mile radius from each Metrorail station?\n- what is the area of Miami with best rental pricing that meets criteria established?\n- What are the venues of the two best places to live? How the prices compare?\n- How venues distribute among Miami neighborhoods and around metro stations?\n- Are there tradeoffs between size and price and location?\n- Any other interesting statistical data findings of the real estate and overall data."
        },
        {
            "cell_type": "markdown",
            "metadata": {},
            "source": "## Reference of venues around current residence in Maryland for comparison to Miami."
        },
        {
            "cell_type": "code",
            "execution_count": 1,
            "metadata": {},
            "outputs": [
                {
                    "name": "stdout",
                    "output_type": "stream",
                    "text": "Collecting geocoder\n  Downloading geocoder-1.38.1-py2.py3-none-any.whl (98 kB)\n\u001b[K     |\u2588\u2588\u2588\u2588\u2588\u2588\u2588\u2588\u2588\u2588\u2588\u2588\u2588\u2588\u2588\u2588\u2588\u2588\u2588\u2588\u2588\u2588\u2588\u2588\u2588\u2588\u2588\u2588\u2588\u2588\u2588\u2588| 98 kB 11.8 MB/s eta 0:00:01\n\u001b[?25hRequirement already satisfied: requests in /opt/conda/envs/Python-3.8-main/lib/python3.8/site-packages (from geocoder) (2.25.1)\nRequirement already satisfied: six in /opt/conda/envs/Python-3.8-main/lib/python3.8/site-packages (from geocoder) (1.15.0)\nCollecting ratelim\n  Downloading ratelim-0.1.6-py2.py3-none-any.whl (4.0 kB)\nRequirement already satisfied: future in /opt/conda/envs/Python-3.8-main/lib/python3.8/site-packages (from geocoder) (0.18.2)\nRequirement already satisfied: click in /opt/conda/envs/Python-3.8-main/lib/python3.8/site-packages (from geocoder) (7.1.2)\nRequirement already satisfied: decorator in /opt/conda/envs/Python-3.8-main/lib/python3.8/site-packages (from ratelim->geocoder) (5.0.9)\nRequirement already satisfied: urllib3<1.27,>=1.21.1 in /opt/conda/envs/Python-3.8-main/lib/python3.8/site-packages (from requests->geocoder) (1.26.6)\nRequirement already satisfied: idna<3,>=2.5 in /opt/conda/envs/Python-3.8-main/lib/python3.8/site-packages (from requests->geocoder) (2.8)\nRequirement already satisfied: chardet<5,>=3.0.2 in /opt/conda/envs/Python-3.8-main/lib/python3.8/site-packages (from requests->geocoder) (3.0.4)\nRequirement already satisfied: certifi>=2017.4.17 in /opt/conda/envs/Python-3.8-main/lib/python3.8/site-packages (from requests->geocoder) (2021.5.30)\nInstalling collected packages: ratelim, geocoder\nSuccessfully installed geocoder-1.38.1 ratelim-0.1.6\nRequirement already satisfied: geopy in /opt/conda/envs/Python-3.8-main/lib/python3.8/site-packages (2.1.0)\nRequirement already satisfied: geographiclib<2,>=1.49 in /opt/conda/envs/Python-3.8-main/lib/python3.8/site-packages (from geopy) (1.50)\nCollecting folium\n  Downloading folium-0.12.1-py2.py3-none-any.whl (94 kB)\n\u001b[K     |\u2588\u2588\u2588\u2588\u2588\u2588\u2588\u2588\u2588\u2588\u2588\u2588\u2588\u2588\u2588\u2588\u2588\u2588\u2588\u2588\u2588\u2588\u2588\u2588\u2588\u2588\u2588\u2588\u2588\u2588\u2588\u2588| 94 kB 5.9 MB/s  eta 0:00:01\n\u001b[?25hCollecting branca>=0.3.0\n  Downloading branca-0.4.2-py3-none-any.whl (24 kB)\nRequirement already satisfied: numpy in /opt/conda/envs/Python-3.8-main/lib/python3.8/site-packages (from folium) (1.19.2)\nRequirement already satisfied: requests in /opt/conda/envs/Python-3.8-main/lib/python3.8/site-packages (from folium) (2.25.1)\nRequirement already satisfied: jinja2>=2.9 in /opt/conda/envs/Python-3.8-main/lib/python3.8/site-packages (from folium) (3.0.0)\nRequirement already satisfied: MarkupSafe>=2.0.0rc2 in /opt/conda/envs/Python-3.8-main/lib/python3.8/site-packages (from jinja2>=2.9->folium) (2.0.1)\nRequirement already satisfied: idna<3,>=2.5 in /opt/conda/envs/Python-3.8-main/lib/python3.8/site-packages (from requests->folium) (2.8)\nRequirement already satisfied: chardet<5,>=3.0.2 in /opt/conda/envs/Python-3.8-main/lib/python3.8/site-packages (from requests->folium) (3.0.4)\nRequirement already satisfied: urllib3<1.27,>=1.21.1 in /opt/conda/envs/Python-3.8-main/lib/python3.8/site-packages (from requests->folium) (1.26.6)\nRequirement already satisfied: certifi>=2017.4.17 in /opt/conda/envs/Python-3.8-main/lib/python3.8/site-packages (from requests->folium) (2021.5.30)\nInstalling collected packages: branca, folium\nSuccessfully installed branca-0.4.2 folium-0.12.1\nCollecting package metadata (current_repodata.json): done\nSolving environment: failed with initial frozen solve. Retrying with flexible solve.\nCollecting package metadata (repodata.json): done\nSolving environment: done\n\n## Package Plan ##\n\n  environment location: /opt/conda/envs/Python-3.8-main\n\n  added / updated specs:\n    - folium=0.5.0\n\n\nThe following packages will be downloaded:\n\n    package                    |            build\n    ---------------------------|-----------------\n    altair-4.1.0               |             py_1         614 KB  conda-forge\n    branca-0.4.2               |     pyhd8ed1ab_0          26 KB  conda-forge\n    certifi-2021.5.30          |   py38h578d9bd_0         141 KB  conda-forge\n    folium-0.5.0               |             py_0          45 KB  conda-forge\n    openssl-1.1.1k             |       h7f98852_0         2.1 MB  conda-forge\n    python_abi-3.8             |           2_cp38           4 KB  conda-forge\n    vincent-0.4.4              |             py_1          28 KB  conda-forge\n    widgetsnbextension-3.5.1   |   py38h578d9bd_4         1.8 MB  conda-forge\n    ------------------------------------------------------------\n                                           Total:         4.8 MB\n\nThe following NEW packages will be INSTALLED:\n\n  altair             conda-forge/noarch::altair-4.1.0-py_1\n  branca             conda-forge/noarch::branca-0.4.2-pyhd8ed1ab_0\n  folium             conda-forge/noarch::folium-0.5.0-py_0\n  python_abi         conda-forge/linux-64::python_abi-3.8-2_cp38\n  vincent            conda-forge/noarch::vincent-0.4.4-py_1\n\nThe following packages will be UPDATED:\n\n  widgetsnbextension pkgs/main::widgetsnbextension-3.5.1-p~ --> conda-forge::widgetsnbextension-3.5.1-py38h578d9bd_4\n\nThe following packages will be SUPERSEDED by a higher-priority channel:\n\n  certifi            pkgs/main::certifi-2021.5.30-py38h06a~ --> conda-forge::certifi-2021.5.30-py38h578d9bd_0\n  openssl              pkgs/main::openssl-1.1.1k-h27cfd23_0 --> conda-forge::openssl-1.1.1k-h7f98852_0\n\n\n\nDownloading and Extracting Packages\nopenssl-1.1.1k       | 2.1 MB    | ##################################### | 100% \nfolium-0.5.0         | 45 KB     | ##################################### | 100% \nvincent-0.4.4        | 28 KB     | ##################################### | 100% \naltair-4.1.0         | 614 KB    | ##################################### | 100% \ncertifi-2021.5.30    | 141 KB    | ##################################### | 100% \nwidgetsnbextension-3 | 1.8 MB    | ##################################### | 100% \npython_abi-3.8       | 4 KB      | ##################################### | 100% \nbranca-0.4.2         | 26 KB     | ##################################### | 100% \nPreparing transaction: done\nVerifying transaction: done\nExecuting transaction: \\ Exception while loading config file /var/pod/.ws/ax-ext/config/wscloud/jupyter_notebook_config.py\n    Traceback (most recent call last):\n      File \"/opt/conda/envs/Python-3.8-main/lib/python3.8/site-packages/traitlets/config/application.py\", line 737, in _load_config_files\n        config = loader.load_config()\n      File \"/opt/conda/envs/Python-3.8-main/lib/python3.8/site-packages/traitlets/config/loader.py\", line 616, in load_config\n        self._read_file_as_dict()\n      File \"/opt/conda/envs/Python-3.8-main/lib/python3.8/site-packages/traitlets/config/loader.py\", line 648, in _read_file_as_dict\n        exec(compile(f.read(), conf_filename, 'exec'), namespace, namespace)\n      File \"/var/pod/.ws/ax-ext/config/wscloud/jupyter_notebook_config.py\", line 17, in <module>\n        from cdsax_jupyter_extensions.ax_log import ax_log_request\n    ModuleNotFoundError: No module named 'cdsax_jupyter_extensions'\nEnabling notebook extension jupyter-js-widgets/extension...\n      - Validating: \u001b[32mOK\u001b[0m\n\ndone\nLibraries imported.\n"
                }
            ],
            "source": "import numpy as np # library to handle data in a vectorized manner\nimport time\nimport pandas as pd # library for data analsysis\npd.set_option('display.max_columns', None)\npd.set_option('display.max_rows', None)\n\n!pip install geocoder\n!pip install geopy\nimport geocoder\nimport os\n!pip install folium\nimport folium # map rendering library\n\nimport json # library to handle JSON files\nimport requests # library to handle requests\nfrom pandas.io.json import json_normalize # tranform JSON file into a pandas dataframe\n\nfrom geopy.geocoders import Nominatim # convert an address into latitude and longitude values\n!conda install -c conda-forge folium=0.5.0 --yes # uncomment this line if you haven't completed the Foursquare API lab\n\nprint('Libraries imported.')"
        },
        {
            "cell_type": "code",
            "execution_count": 6,
            "metadata": {},
            "outputs": [
                {
                    "ename": "ConfigurationError",
                    "evalue": "Using Nominatim with default or sample `user_agent` \"geopy/2.1.0\" is strongly discouraged, as it violates Nominatim's ToS https://operations.osmfoundation.org/policies/nominatim/ and may possibly cause 403 and 429 HTTP errors. Please specify a custom `user_agent` with `Nominatim(user_agent=\"my-application\")` or by overriding the default `user_agent`: `geopy.geocoders.options.default_user_agent = \"my-application\"`.",
                    "output_type": "error",
                    "traceback": [
                        "\u001b[0;31m---------------------------------------------------------------------------\u001b[0m",
                        "\u001b[0;31mConfigurationError\u001b[0m                        Traceback (most recent call last)",
                        "\u001b[0;32m<ipython-input-6-2d0a13f64b7d>\u001b[0m in \u001b[0;36m<module>\u001b[0;34m\u001b[0m\n\u001b[1;32m      1\u001b[0m \u001b[0;31m# Owings Mills, Maryland 21112 United States of America\u001b[0m\u001b[0;34m\u001b[0m\u001b[0;34m\u001b[0m\u001b[0;34m\u001b[0m\u001b[0m\n\u001b[1;32m      2\u001b[0m \u001b[0maddress\u001b[0m \u001b[0;34m=\u001b[0m \u001b[0;34m'Owings Mills, Maryland'\u001b[0m\u001b[0;34m\u001b[0m\u001b[0;34m\u001b[0m\u001b[0m\n\u001b[0;32m----> 3\u001b[0;31m \u001b[0mgeolocator\u001b[0m \u001b[0;34m=\u001b[0m \u001b[0mNominatim\u001b[0m\u001b[0;34m(\u001b[0m\u001b[0;34m)\u001b[0m\u001b[0;34m\u001b[0m\u001b[0;34m\u001b[0m\u001b[0m\n\u001b[0m\u001b[1;32m      4\u001b[0m \u001b[0mlocation\u001b[0m \u001b[0;34m=\u001b[0m \u001b[0mgeolocator\u001b[0m\u001b[0;34m.\u001b[0m\u001b[0mgeocode\u001b[0m\u001b[0;34m(\u001b[0m\u001b[0maddress\u001b[0m\u001b[0;34m)\u001b[0m\u001b[0;34m\u001b[0m\u001b[0;34m\u001b[0m\u001b[0m\n\u001b[1;32m      5\u001b[0m \u001b[0mlatitude\u001b[0m \u001b[0;34m=\u001b[0m \u001b[0mlocation\u001b[0m\u001b[0;34m.\u001b[0m\u001b[0mlatitude\u001b[0m\u001b[0;34m\u001b[0m\u001b[0;34m\u001b[0m\u001b[0m\n",
                        "\u001b[0;32m/opt/conda/envs/Python-3.8-main/lib/python3.8/site-packages/geopy/geocoders/nominatim.py\u001b[0m in \u001b[0;36m__init__\u001b[0;34m(self, timeout, proxies, domain, scheme, user_agent, ssl_context, adapter_factory)\u001b[0m\n\u001b[1;32m    103\u001b[0m         if (self.domain == _DEFAULT_NOMINATIM_DOMAIN\n\u001b[1;32m    104\u001b[0m                 and self.headers['User-Agent'] in _REJECTED_USER_AGENTS):\n\u001b[0;32m--> 105\u001b[0;31m             raise ConfigurationError(\n\u001b[0m\u001b[1;32m    106\u001b[0m                 \u001b[0;34m'Using Nominatim with default or sample `user_agent` \"%s\" is '\u001b[0m\u001b[0;34m\u001b[0m\u001b[0;34m\u001b[0m\u001b[0m\n\u001b[1;32m    107\u001b[0m                 \u001b[0;34m'strongly discouraged, as it violates Nominatim\\'s ToS '\u001b[0m\u001b[0;34m\u001b[0m\u001b[0;34m\u001b[0m\u001b[0m\n",
                        "\u001b[0;31mConfigurationError\u001b[0m: Using Nominatim with default or sample `user_agent` \"geopy/2.1.0\" is strongly discouraged, as it violates Nominatim's ToS https://operations.osmfoundation.org/policies/nominatim/ and may possibly cause 403 and 429 HTTP errors. Please specify a custom `user_agent` with `Nominatim(user_agent=\"my-application\")` or by overriding the default `user_agent`: `geopy.geocoders.options.default_user_agent = \"my-application\"`."
                    ]
                }
            ],
            "source": "# Owings Mills, Maryland 21112 United States of America\naddress = 'Owings Mills, Maryland'\ngeolocator = Nominatim()\nlocation = geolocator.geocode(address)\nlatitude = location.latitude\nlongitude = location.longitude\nprint('The geograpical coordinate of Maryland residence are {}, {}.'.format(latitude, longitude))"
        },
        {
            "cell_type": "code",
            "execution_count": 3,
            "metadata": {},
            "outputs": [],
            "source": "neighborhood_latitude= 39.4010753\nneighborhood_longitude = -76.796299"
        },
        {
            "cell_type": "code",
            "execution_count": 4,
            "metadata": {},
            "outputs": [
                {
                    "name": "stdout",
                    "output_type": "stream",
                    "text": "Your credentails:\nCLIENT_ID: XA4L4ESICRTSGS5GINHBFROT2VMUXSDM0OIM3WBGZFBJ5215\nCLIENT_SECRET: LDGFKKQCGQXK5D4E4BOEYLDBL54ZOXCYAYCYWZBQQL0BY5CB\n"
                }
            ],
            "source": "LIMIT = 100 # limit of number of venues returned by Foursquare API\nradius = 500 # define radius\nCLIENT_ID = 'XA4L4ESICRTSGS5GINHBFROT2VMUXSDM0OIM3WBGZFBJ5215' # My Foursquare ID\nCLIENT_SECRET = 'LDGFKKQCGQXK5D4E4BOEYLDBL54ZOXCYAYCYWZBQQL0BY5CB' # My Foursquare Secret\nVERSION = '20180604'\nprint('Your credentails:')\nprint('CLIENT_ID: ' + CLIENT_ID)\nprint('CLIENT_SECRET: ' + CLIENT_SECRET)"
        },
        {
            "cell_type": "code",
            "execution_count": 5,
            "metadata": {},
            "outputs": [
                {
                    "data": {
                        "text/plain": "'https://api.foursquare.com/v2/venues/explore?&client_id=XA4L4ESICRTSGS5GINHBFROT2VMUXSDM0OIM3WBGZFBJ5215&client_secret=LDGFKKQCGQXK5D4E4BOEYLDBL54ZOXCYAYCYWZBQQL0BY5CB&v=20180604&ll=39.4010753,-76.796299&radius=500&limit=100'"
                    },
                    "execution_count": 5,
                    "metadata": {},
                    "output_type": "execute_result"
                }
            ],
            "source": "url= 'https://api.foursquare.com/v2/venues/explore?&client_id=XA4L4ESICRTSGS5GINHBFROT2VMUXSDM0OIM3WBGZFBJ5215&client_secret=LDGFKKQCGQXK5D4E4BOEYLDBL54ZOXCYAYCYWZBQQL0BY5CB&v=20180604&ll=39.4010753,-76.796299&radius=500&limit=100'\nurl # display URL"
        },
        {
            "cell_type": "code",
            "execution_count": 7,
            "metadata": {},
            "outputs": [],
            "source": "results = requests.get(url).json()\n#results"
        },
        {
            "cell_type": "code",
            "execution_count": 8,
            "metadata": {},
            "outputs": [],
            "source": "# function that extracts the category of the venue\ndef get_category_type(row):\n    try:\n        categories_list = row['categories']\n    except:\n        categories_list = row['venue.categories']\n        \n    if len(categories_list) == 0:\n        return None\n    else:\n        return categories_list[0]['name']"
        },
        {
            "cell_type": "code",
            "execution_count": 9,
            "metadata": {},
            "outputs": [
                {
                    "name": "stderr",
                    "output_type": "stream",
                    "text": "<ipython-input-9-36d8873e2a78>:3: FutureWarning: pandas.io.json.json_normalize is deprecated, use pandas.json_normalize instead\n  SBnearby_venues = json_normalize(venues) # flatten JSON\n"
                },
                {
                    "data": {
                        "text/html": "<div>\n<style scoped>\n    .dataframe tbody tr th:only-of-type {\n        vertical-align: middle;\n    }\n\n    .dataframe tbody tr th {\n        vertical-align: top;\n    }\n\n    .dataframe thead th {\n        text-align: right;\n    }\n</style>\n<table border=\"1\" class=\"dataframe\">\n  <thead>\n    <tr style=\"text-align: right;\">\n      <th></th>\n      <th>name</th>\n      <th>categories</th>\n      <th>lat</th>\n      <th>lng</th>\n    </tr>\n  </thead>\n  <tbody>\n    <tr>\n      <th>0</th>\n      <td>Asian Kitchen</td>\n      <td>Asian Restaurant</td>\n      <td>39.399578</td>\n      <td>-76.799104</td>\n    </tr>\n    <tr>\n      <th>1</th>\n      <td>Taj Palace Owings MIlls</td>\n      <td>North Indian Restaurant</td>\n      <td>39.399413</td>\n      <td>-76.800307</td>\n    </tr>\n    <tr>\n      <th>2</th>\n      <td>Artful Gourmet Bistro</td>\n      <td>New American Restaurant</td>\n      <td>39.399300</td>\n      <td>-76.801364</td>\n    </tr>\n    <tr>\n      <th>3</th>\n      <td>Red Robin Gourmet Burgers and Brews</td>\n      <td>Burger Joint</td>\n      <td>39.403242</td>\n      <td>-76.794221</td>\n    </tr>\n    <tr>\n      <th>4</th>\n      <td>Yuki Sushi</td>\n      <td>Sushi Restaurant</td>\n      <td>39.399449</td>\n      <td>-76.799871</td>\n    </tr>\n    <tr>\n      <th>5</th>\n      <td>Baskin-Robbins</td>\n      <td>Ice Cream Shop</td>\n      <td>39.399234</td>\n      <td>-76.799813</td>\n    </tr>\n    <tr>\n      <th>6</th>\n      <td>Olive Garden</td>\n      <td>Italian Restaurant</td>\n      <td>39.404531</td>\n      <td>-76.793403</td>\n    </tr>\n    <tr>\n      <th>7</th>\n      <td>Brookside's Pizzeria, The Original NY Pizza Co.</td>\n      <td>Pizza Place</td>\n      <td>39.399343</td>\n      <td>-76.800756</td>\n    </tr>\n    <tr>\n      <th>8</th>\n      <td>The Greene Turtle</td>\n      <td>Sports Bar</td>\n      <td>39.402854</td>\n      <td>-76.794645</td>\n    </tr>\n    <tr>\n      <th>9</th>\n      <td>Red Lobster</td>\n      <td>Seafood Restaurant</td>\n      <td>39.404619</td>\n      <td>-76.792716</td>\n    </tr>\n  </tbody>\n</table>\n</div>",
                        "text/plain": "                                              name               categories  \\\n0                                    Asian Kitchen         Asian Restaurant   \n1                          Taj Palace Owings MIlls  North Indian Restaurant   \n2                            Artful Gourmet Bistro  New American Restaurant   \n3              Red Robin Gourmet Burgers and Brews             Burger Joint   \n4                                       Yuki Sushi         Sushi Restaurant   \n5                                   Baskin-Robbins           Ice Cream Shop   \n6                                     Olive Garden       Italian Restaurant   \n7  Brookside's Pizzeria, The Original NY Pizza Co.              Pizza Place   \n8                                The Greene Turtle               Sports Bar   \n9                                      Red Lobster       Seafood Restaurant   \n\n         lat        lng  \n0  39.399578 -76.799104  \n1  39.399413 -76.800307  \n2  39.399300 -76.801364  \n3  39.403242 -76.794221  \n4  39.399449 -76.799871  \n5  39.399234 -76.799813  \n6  39.404531 -76.793403  \n7  39.399343 -76.800756  \n8  39.402854 -76.794645  \n9  39.404619 -76.792716  "
                    },
                    "execution_count": 9,
                    "metadata": {},
                    "output_type": "execute_result"
                }
            ],
            "source": "venues = results['response']['groups'][0]['items']\n    \nSBnearby_venues = json_normalize(venues) # flatten JSON\n\n# filter columns\nfiltered_columns = ['venue.name', 'venue.categories', 'venue.location.lat', 'venue.location.lng']\nSBnearby_venues =SBnearby_venues.loc[:, filtered_columns]\n\n# filter the category for each row\nSBnearby_venues['venue.categories'] = SBnearby_venues.apply(get_category_type, axis=1)\n\n# clean columns\nSBnearby_venues.columns = [col.split(\".\")[-1] for col in SBnearby_venues.columns]\n\nSBnearby_venues.head(10)"
        },
        {
            "cell_type": "code",
            "execution_count": 10,
            "metadata": {},
            "outputs": [
                {
                    "ename": "NameError",
                    "evalue": "name 'latitude' is not defined",
                    "output_type": "error",
                    "traceback": [
                        "\u001b[0;31m---------------------------------------------------------------------------\u001b[0m",
                        "\u001b[0;31mNameError\u001b[0m                                 Traceback (most recent call last)",
                        "\u001b[0;32m<ipython-input-10-ccd89ef39fbf>\u001b[0m in \u001b[0;36m<module>\u001b[0;34m\u001b[0m\n\u001b[1;32m      1\u001b[0m \u001b[0;31m# create map of Southbank Melbourne using latitude and longitude values\u001b[0m\u001b[0;34m\u001b[0m\u001b[0;34m\u001b[0m\u001b[0;34m\u001b[0m\u001b[0m\n\u001b[0;32m----> 2\u001b[0;31m \u001b[0mmap_sb\u001b[0m \u001b[0;34m=\u001b[0m \u001b[0mfolium\u001b[0m\u001b[0;34m.\u001b[0m\u001b[0mMap\u001b[0m\u001b[0;34m(\u001b[0m\u001b[0mlocation\u001b[0m\u001b[0;34m=\u001b[0m\u001b[0;34m[\u001b[0m\u001b[0mlatitude\u001b[0m\u001b[0;34m,\u001b[0m \u001b[0mlongitude\u001b[0m\u001b[0;34m]\u001b[0m\u001b[0;34m,\u001b[0m \u001b[0mzoom_start\u001b[0m\u001b[0;34m=\u001b[0m\u001b[0;36m20\u001b[0m\u001b[0;34m)\u001b[0m\u001b[0;34m\u001b[0m\u001b[0;34m\u001b[0m\u001b[0m\n\u001b[0m\u001b[1;32m      3\u001b[0m \u001b[0;34m\u001b[0m\u001b[0m\n\u001b[1;32m      4\u001b[0m \u001b[0;31m# add markers to map\u001b[0m\u001b[0;34m\u001b[0m\u001b[0;34m\u001b[0m\u001b[0;34m\u001b[0m\u001b[0m\n\u001b[1;32m      5\u001b[0m \u001b[0;32mfor\u001b[0m \u001b[0mlat\u001b[0m\u001b[0;34m,\u001b[0m \u001b[0mlng\u001b[0m\u001b[0;34m,\u001b[0m \u001b[0mlabel\u001b[0m \u001b[0;32min\u001b[0m \u001b[0mzip\u001b[0m\u001b[0;34m(\u001b[0m\u001b[0mSBnearby_venues\u001b[0m\u001b[0;34m[\u001b[0m\u001b[0;34m'lat'\u001b[0m\u001b[0;34m]\u001b[0m\u001b[0;34m,\u001b[0m \u001b[0mSBnearby_venues\u001b[0m\u001b[0;34m[\u001b[0m\u001b[0;34m'lng'\u001b[0m\u001b[0;34m]\u001b[0m\u001b[0;34m,\u001b[0m \u001b[0mSBnearby_venues\u001b[0m\u001b[0;34m[\u001b[0m\u001b[0;34m'name'\u001b[0m\u001b[0;34m]\u001b[0m\u001b[0;34m)\u001b[0m\u001b[0;34m:\u001b[0m\u001b[0;34m\u001b[0m\u001b[0;34m\u001b[0m\u001b[0m\n",
                        "\u001b[0;31mNameError\u001b[0m: name 'latitude' is not defined"
                    ]
                }
            ],
            "source": "\n# create map of Southbank Melbourne using latitude and longitude values\nmap_sb = folium.Map(location=[latitude, longitude], zoom_start=20)\n\n# add markers to map\nfor lat, lng, label in zip(SBnearby_venues['lat'], SBnearby_venues['lng'], SBnearby_venues['name']):\n    label = folium.Popup(label, parse_html=True)\n    folium.RegularPolygonMarker(\n        [lat, lng],\n        number_of_sides=4,\n        radius=10,\n        popup=label,\n        color='blue',\n        fill_color='#0f0f0f',\n        fill_opacity=0.7,\n    ).add_to(map_sb)  \n    \nmap_sb"
        },
        {
            "cell_type": "code",
            "execution_count": null,
            "metadata": {},
            "outputs": [],
            "source": ""
        }
    ],
    "metadata": {
        "kernelspec": {
            "display_name": "Python 3.8",
            "language": "python",
            "name": "python3"
        },
        "language_info": {
            "codemirror_mode": {
                "name": "ipython",
                "version": 3
            },
            "file_extension": ".py",
            "mimetype": "text/x-python",
            "name": "python",
            "nbconvert_exporter": "python",
            "pygments_lexer": "ipython3",
            "version": "3.8.10"
        }
    },
    "nbformat": 4,
    "nbformat_minor": 1
}