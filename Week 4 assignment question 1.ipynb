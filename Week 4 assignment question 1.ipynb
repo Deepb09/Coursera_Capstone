{
    "cells": [
        {
            "cell_type": "markdown",
            "metadata": {
                "collapsed": true
            },
            "source": "# Coursera Capstone \n# Week 4 Assignment - The Battle of neighborhoods(Week 1)\n## Introduction"
        },
        {
            "cell_type": "markdown",
            "metadata": {},
            "source": "### Question 1 :- \nClearly define a problem or an idea of your choice, where you would need to leverage the Foursquare location data to solve or execute. Remember that data science problems always target an audience and are meant to help a group of stakeholders solve a problem, so make sure that you explicitly describe your audience and why they would care about your problem."
        },
        {
            "cell_type": "markdown",
            "metadata": {},
            "source": "## Intro :-\nI am a Software developer working in Maryland. I have to move to Miami,Florida. I used to live in Owings Mills, Maryland with walking distance to the Grand Junction Metro Station with great connectivity to Baltimore Downtown as well as Washington, D.C., all shopping stores, groceries and pharmacy was nearby to my apartment. But since I am moving to Florida I want to use the skills learned during IBM Data Science Specialization course to help me find a suitable apartment that meets the price range along with good locality which should be connected easily to public transport such as metros and buses and have groceries stores and good restaurants nearby. I can use apartment and renting websites to help me with my situation but I want to apply my learning and utilize the tools I used to help solve the problem. To help solve the problem, I will evaluate and compare the apartments available for renting in Miami, Florida and they should meet the following measures:"
        },
        {
            "cell_type": "markdown",
            "metadata": {},
            "source": "- Apartment must be 2 bedrooms.\n- Desired location is near a metro station in the Manhattan area and within (1.5 km) radius or less than 30 minutes walking distance.\n- Price of rent not exceed $2,000 per month.\n- Amenities in the selected neighborhood shall be similar to my current residence.\n- Desirable to have venues such as coffee shops,good Restaurants,Gym and Grocery stores nearby.\n- As a reference, I have included a map of venues near current residence in Maryland."
        },
        {
            "cell_type": "markdown",
            "metadata": {},
            "source": "## Business Problem"
        },
        {
            "cell_type": "markdown",
            "metadata": {},
            "source": "The challenge is to find a suitable apartment for rent in Miami, Florida that meets with the demands of appropriate location, price and venues. The data required to resolve this challenge is described in section 2."
        },
        {
            "cell_type": "markdown",
            "metadata": {},
            "source": "## Project Purpose :-"
        },
        {
            "cell_type": "markdown",
            "metadata": {},
            "source": "This information will be helpful for someone moving to a new city and will help them to find a good apartment, as the basic questions for renting a reasonable apartment in a city are being answered. It will also help individuals interested in exploring coffee shops and restaurants in any city. Lastly, it is serving the purpose of helping me improve my Data Science skills as I can apply in this project."
        }
    ],
    "metadata": {
        "kernelspec": {
            "display_name": "Python 3.8",
            "language": "python",
            "name": "python3"
        },
        "language_info": {
            "codemirror_mode": {
                "name": "ipython",
                "version": 3
            },
            "file_extension": ".py",
            "mimetype": "text/x-python",
            "name": "python",
            "nbconvert_exporter": "python",
            "pygments_lexer": "ipython3",
            "version": "3.8.10"
        }
    },
    "nbformat": 4,
    "nbformat_minor": 1
}